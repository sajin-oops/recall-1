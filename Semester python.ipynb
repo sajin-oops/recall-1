{
 "cells": [
  {
   "cell_type": "code",
   "execution_count": 65,
   "id": "602b3801-dbc3-4f01-b7d8-393656e12393",
   "metadata": {},
   "outputs": [
    {
     "name": "stdout",
     "output_type": "stream",
     "text": [
      "HELLO\n"
     ]
    }
   ],
   "source": [
    "                                                #2MARK\n",
    "\n",
    "#1.What are the feature of python?\n",
    "'''\n",
    "    Easy to learn and use \n",
    "    open source\n",
    "    Interpreted language \n",
    "    Object oriented language\n",
    "'''\n",
    "#2.Can you modify a string in python? Justify\n",
    "\n",
    "text = \"hello\"\n",
    "a=text.upper()\n",
    "print(a)"
   ]
  },
  {
   "cell_type": "code",
   "execution_count": 66,
   "id": "ee9c2daa-d073-4f6e-aa3c-1954f186a961",
   "metadata": {},
   "outputs": [
    {
     "name": "stdout",
     "output_type": "stream",
     "text": [
      "['apple', 'banana', 'cherry']\n",
      "cherry\n"
     ]
    }
   ],
   "source": [
    "thislist = [\"apple\", \"banana\", \"cherry\"]\n",
    "print(thislist)\n",
    "print(thislist[-1])"
   ]
  },
  {
   "cell_type": "code",
   "execution_count": 67,
   "id": "28e4ed6a-6067-4e26-a4e9-dac40d3e18d3",
   "metadata": {},
   "outputs": [
    {
     "name": "stdout",
     "output_type": "stream",
     "text": [
      "[4, 9, 16, 25]\n"
     ]
    }
   ],
   "source": [
    "a = [2,3,4,5]\n",
    "result = [values ** 2 for values in a]\n",
    "print(result)\n"
   ]
  },
  {
   "cell_type": "code",
   "execution_count": 68,
   "id": "c4b9631d-c08d-45ff-985b-353cf340437d",
   "metadata": {},
   "outputs": [
    {
     "name": "stdout",
     "output_type": "stream",
     "text": [
      "Addition: 6\n",
      "Subtraction: 2\n",
      "Multiplication: 8\n",
      "Division: 2.0\n",
      "Floor Division: 2\n",
      "Modulo: 0\n",
      "Power: 16\n"
     ]
    }
   ],
   "source": [
    "# Arithmetic Operators\n",
    "a = 4\n",
    "b = 2\n",
    "\n",
    "print('Addition:', a + b)        # 6\n",
    "print('Subtraction:', a - b)     # 2\n",
    "print('Multiplication:', a * b)  # 8\n",
    "print('Division:', a / b)        # 2.0\n",
    "print('Floor Division:', a // b) # 2\n",
    "print('Modulo:', a % b)          # 0\n",
    "print('Power:', a ** b)          # 16\n"
   ]
  },
  {
   "cell_type": "code",
   "execution_count": 69,
   "id": "a90fdeac-1e28-4761-8675-b8027d700127",
   "metadata": {},
   "outputs": [
    {
     "name": "stdout",
     "output_type": "stream",
     "text": [
      "15\n",
      "10\n",
      "50\n",
      "10.0\n"
     ]
    }
   ],
   "source": [
    "# Assignment Operators\n",
    "a = 10\n",
    "b = 5\n",
    "\n",
    "a += b  # a = a + b\n",
    "print(a)  # 15\n",
    "\n",
    "a -= b  # a = a - b\n",
    "print(a)  # 10\n",
    "\n",
    "a *= b  # a = a * b\n",
    "print(a)  # 50\n",
    "\n",
    "a /= b  # a = a / b\n",
    "print(a)  # 10.0\n"
   ]
  },
  {
   "cell_type": "code",
   "execution_count": 70,
   "id": "ebdd5ccc-67ac-4687-8069-430cbd6f7cbc",
   "metadata": {},
   "outputs": [
    {
     "data": {
      "text/plain": [
       "10.0"
      ]
     },
     "execution_count": 70,
     "metadata": {},
     "output_type": "execute_result"
    }
   ],
   "source": [
    "\n",
    "a"
   ]
  },
  {
   "cell_type": "code",
   "execution_count": 71,
   "id": "92212526-a78c-46ed-b928-df0377e8cdf1",
   "metadata": {},
   "outputs": [],
   "source": [
    "a = a + 5"
   ]
  },
  {
   "cell_type": "code",
   "execution_count": 72,
   "id": "e7a4086a-bf2a-406f-b5e1-4f47de28cb83",
   "metadata": {},
   "outputs": [
    {
     "data": {
      "text/plain": [
       "15.0"
      ]
     },
     "execution_count": 72,
     "metadata": {},
     "output_type": "execute_result"
    }
   ],
   "source": [
    "a"
   ]
  },
  {
   "cell_type": "code",
   "execution_count": 73,
   "id": "214a4c23-6d26-4a95-92eb-ed2b3a83fb86",
   "metadata": {},
   "outputs": [],
   "source": [
    "b -=2"
   ]
  },
  {
   "cell_type": "code",
   "execution_count": 74,
   "id": "1cdb00df-808e-4c60-89b9-ded5a48d81e9",
   "metadata": {},
   "outputs": [
    {
     "data": {
      "text/plain": [
       "3"
      ]
     },
     "execution_count": 74,
     "metadata": {},
     "output_type": "execute_result"
    }
   ],
   "source": [
    "b"
   ]
  },
  {
   "cell_type": "code",
   "execution_count": 75,
   "id": "8af0d810-ef39-4ae6-9a78-9c6b7efe0e2f",
   "metadata": {},
   "outputs": [],
   "source": [
    "a = 10\n",
    "a = a-2"
   ]
  },
  {
   "cell_type": "code",
   "execution_count": 76,
   "id": "e9559886-dc1b-4b0e-b8d2-05ad94fee877",
   "metadata": {},
   "outputs": [
    {
     "data": {
      "text/plain": [
       "8"
      ]
     },
     "execution_count": 76,
     "metadata": {},
     "output_type": "execute_result"
    }
   ],
   "source": [
    "a"
   ]
  },
  {
   "cell_type": "code",
   "execution_count": 77,
   "id": "8eb3fe54-ef31-40cc-b882-c8281f438fc4",
   "metadata": {},
   "outputs": [
    {
     "name": "stdout",
     "output_type": "stream",
     "text": [
      "Equal: False\n",
      "Not Equal: True\n",
      "Greater Than: True\n",
      "Less Than: False\n",
      "Greater or Equal: True\n",
      "Less or Equal: False\n"
     ]
    }
   ],
   "source": [
    "# Comparison Operators\n",
    "a = 5\n",
    "b = 2\n",
    "\n",
    "print('Equal:', a == b)            # False\n",
    "print('Not Equal:', a != b)        # True\n",
    "print('Greater Than:', a > b)      # True\n",
    "print('Less Than:', a < b)         # False\n",
    "print('Greater or Equal:', a >= b) # True\n",
    "print('Less or Equal:', a <= b)    # False\n"
   ]
  },
  {
   "cell_type": "code",
   "execution_count": 78,
   "id": "928c0da8-ec43-4976-8303-01c243f5ab04",
   "metadata": {},
   "outputs": [
    {
     "name": "stdout",
     "output_type": "stream",
     "text": [
      "False\n"
     ]
    }
   ],
   "source": [
    "a  = 10\n",
    "b = 2\n",
    "print(a == b)\n"
   ]
  },
  {
   "cell_type": "code",
   "execution_count": 79,
   "id": "13b413b7-2d44-48e7-8ba6-3361daad4868",
   "metadata": {},
   "outputs": [
    {
     "name": "stdout",
     "output_type": "stream",
     "text": [
      "AND: False\n",
      "OR: True\n",
      "NOT: False\n"
     ]
    }
   ],
   "source": [
    "# Logical Operators\n",
    "a = True\n",
    "b = False\n",
    "\n",
    "print('AND:', a and b)  # False\n",
    "print('OR:', a or b)    # True\n",
    "print('NOT:', not a)    # False\n"
   ]
  },
  {
   "cell_type": "code",
   "execution_count": 80,
   "id": "ed345af1-84b4-446b-91b3-a830c5239f62",
   "metadata": {},
   "outputs": [
    {
     "name": "stdout",
     "output_type": "stream",
     "text": [
      "2\n"
     ]
    }
   ],
   "source": [
    "# Logical Operators\n",
    "a = 10\n",
    "b = 2\n",
    "new =  a and b \n",
    "\n",
    "print(new)"
   ]
  },
  {
   "cell_type": "code",
   "execution_count": 81,
   "id": "f7df1040-3f9d-4cd7-b6e7-cc91a358d85f",
   "metadata": {},
   "outputs": [
    {
     "name": "stdout",
     "output_type": "stream",
     "text": [
      "Equal to (==): False\n",
      "Not equal to (!=): True\n",
      "Greater than (>): True\n",
      "Less than (<): False\n",
      "Greater than or equal to (>=): True\n",
      "Less than or equal to (<=): False\n"
     ]
    }
   ],
   "source": [
    "# Relational Operators\n",
    "a = 5\n",
    "b = 3\n",
    "\n",
    "print('Equal to (==):', a == b)            # False\n",
    "print('Not equal to (!=):', a != b)        # True\n",
    "print('Greater than (>):', a > b)          # True\n",
    "print('Less than (<):', a < b)             # False\n",
    "print('Greater than or equal to (>=):', a >= b)  # True\n",
    "print('Less than or equal to (<=):', a <= b)     # False\n"
   ]
  },
  {
   "cell_type": "code",
   "execution_count": 82,
   "id": "daebcc1d-b6df-4142-a87b-49d1c8049984",
   "metadata": {},
   "outputs": [
    {
     "name": "stdout",
     "output_type": "stream",
     "text": [
      "AND: False\n"
     ]
    }
   ],
   "source": [
    "a = True\n",
    "b = False\n",
    "print('AND:', a and b)  # False\n"
   ]
  },
  {
   "cell_type": "code",
   "execution_count": 83,
   "id": "f2666236-589f-47b6-86ff-8afbed7caec8",
   "metadata": {},
   "outputs": [
    {
     "name": "stdout",
     "output_type": "stream",
     "text": [
      "yes\n"
     ]
    }
   ],
   "source": [
    "a = 2\n",
    "b = 2\n",
    "if(a and b == 2):\n",
    "    print(\"yes\")\n",
    "else:\n",
    "    print(\"djd\")"
   ]
  },
  {
   "cell_type": "code",
   "execution_count": null,
   "id": "26872d87-8242-4806-8f92-967360b2fe9d",
   "metadata": {},
   "outputs": [],
   "source": []
  },
  {
   "cell_type": "code",
   "execution_count": 84,
   "id": "a5ede790-6ae2-4fa6-8906-823e07f3881c",
   "metadata": {},
   "outputs": [
    {
     "name": "stdout",
     "output_type": "stream",
     "text": [
      "True\n",
      "True\n"
     ]
    }
   ],
   "source": [
    "# Membership Operators\n",
    "a = [1, 2, 3, 4, 5]\n",
    "print(3 in a)  # True\n",
    "print(6 not in a)  # True\n"
   ]
  },
  {
   "cell_type": "code",
   "execution_count": 85,
   "id": "dcf34848-403c-49ce-a539-900c5c91d145",
   "metadata": {},
   "outputs": [
    {
     "name": "stdout",
     "output_type": "stream",
     "text": [
      "True\n",
      "True\n"
     ]
    }
   ],
   "source": [
    "# Identity Operators\n",
    "a = [1, 2, 3]\n",
    "b = a\n",
    "c = [1, 2, 3]\n",
    "print(a is b)  # True\n",
    "print(a is not c)  # True\n"
   ]
  },
  {
   "cell_type": "code",
   "execution_count": 86,
   "id": "866859a0-bed0-4227-aa86-d7c484d2014b",
   "metadata": {},
   "outputs": [
    {
     "name": "stdout",
     "output_type": "stream",
     "text": [
      "True\n"
     ]
    }
   ],
   "source": [
    "a = [1, 2, 3]\n",
    "a = c\n",
    "c = [1, 2, 3]\n",
    "a = c\n",
    "print(a is c)"
   ]
  },
  {
   "cell_type": "code",
   "execution_count": 87,
   "id": "c8e6fd04-f8eb-421c-b996-7dae600ed0f4",
   "metadata": {},
   "outputs": [
    {
     "name": "stdout",
     "output_type": "stream",
     "text": [
      "{'name': 'Sajin', 'age': 21, 'Gender': 'male'}\n"
     ]
    }
   ],
   "source": [
    "#Dictionary in python\n",
    "a = {\"name\" : \"Sajin\", \"age\" :21 , \"Gender\":\"male\"}\n",
    "print(a)\n",
    "#O/P - {'name': 'Sajin', 'age': 21, 'Gender': 'male'}"
   ]
  },
  {
   "cell_type": "code",
   "execution_count": 88,
   "id": "4794376a-0d5d-4819-bb2d-402dccdd85aa",
   "metadata": {},
   "outputs": [
    {
     "name": "stdout",
     "output_type": "stream",
     "text": [
      "{'name': 'Alice', 'age': 25, 'city': 'New York'}\n"
     ]
    }
   ],
   "source": [
    "my_dict = {\"name\": \"Alice\", \"age\": 25}\n",
    "my_dict[\"city\"] = \"New York\"\n",
    "print(my_dict)  # Output: {'name': 'Alice', 'age': 25, 'city': 'New York'}\n",
    "\n"
   ]
  },
  {
   "cell_type": "code",
   "execution_count": 89,
   "id": "29b281e5-0f64-456b-8092-42a474f32cd4",
   "metadata": {},
   "outputs": [
    {
     "name": "stdout",
     "output_type": "stream",
     "text": [
      "Sajin\n"
     ]
    }
   ],
   "source": [
    "#Accessing Items\n",
    "mydictionary = {\n",
    "    \"Name\" : \"Sajin\",\"age\":21\n",
    "}\n",
    "print(mydictionary[\"Name\"])\n"
   ]
  },
  {
   "cell_type": "code",
   "execution_count": 90,
   "id": "e1e3dbf1-bb87-483d-bc73-0499380c5d76",
   "metadata": {},
   "outputs": [
    {
     "name": "stdout",
     "output_type": "stream",
     "text": [
      "Alice\n"
     ]
    }
   ],
   "source": [
    "my_dict = {\"name\": \"Alice\", \"age\": 25}\n",
    "print(my_dict[\"name\"])  # Output: Alice\n"
   ]
  },
  {
   "cell_type": "code",
   "execution_count": 91,
   "id": "7ae328c6-919a-47c7-9d5b-9eb19450e7e3",
   "metadata": {},
   "outputs": [
    {
     "name": "stdout",
     "output_type": "stream",
     "text": [
      "{'Name': 'Sajin', 'age': 20}\n"
     ]
    }
   ],
   "source": [
    "#Updating items\n",
    "mydictionary = {\n",
    "    \"Name\" : \"Sajin\",\"age\":21\n",
    "}\n",
    "mydictionary[\"age\"] = 20\n",
    "print(mydictionary)"
   ]
  },
  {
   "cell_type": "code",
   "execution_count": null,
   "id": "68e5f9b9-a608-4eb1-8661-906f88583508",
   "metadata": {},
   "outputs": [],
   "source": []
  },
  {
   "cell_type": "code",
   "execution_count": 99,
   "id": "6f354aba-9e84-4dcf-988f-d003575316ad",
   "metadata": {},
   "outputs": [
    {
     "ename": "FileNotFoundError",
     "evalue": "[Errno 2] No such file or directory: 'hii.txt'",
     "output_type": "error",
     "traceback": [
      "\u001b[1;31m---------------------------------------------------------------------------\u001b[0m",
      "\u001b[1;31mFileNotFoundError\u001b[0m                         Traceback (most recent call last)",
      "Cell \u001b[1;32mIn[99], line 2\u001b[0m\n\u001b[0;32m      1\u001b[0m \u001b[38;5;66;03m# Reading a file\u001b[39;00m\n\u001b[1;32m----> 2\u001b[0m \u001b[38;5;28;01mwith\u001b[39;00m \u001b[38;5;28mopen\u001b[39m(\u001b[38;5;124m'\u001b[39m\u001b[38;5;124mhii.txt\u001b[39m\u001b[38;5;124m'\u001b[39m, \u001b[38;5;124m'\u001b[39m\u001b[38;5;124mr\u001b[39m\u001b[38;5;124m'\u001b[39m) \u001b[38;5;28;01mas\u001b[39;00m file:\n\u001b[0;32m      3\u001b[0m     content \u001b[38;5;241m=\u001b[39m file\u001b[38;5;241m.\u001b[39mread()\n\u001b[0;32m      4\u001b[0m     \u001b[38;5;28mprint\u001b[39m(content)\n",
      "File \u001b[1;32m~\\anaconda3\\anaconda\\Lib\\site-packages\\IPython\\core\\interactiveshell.py:324\u001b[0m, in \u001b[0;36m_modified_open\u001b[1;34m(file, *args, **kwargs)\u001b[0m\n\u001b[0;32m    317\u001b[0m \u001b[38;5;28;01mif\u001b[39;00m file \u001b[38;5;129;01min\u001b[39;00m {\u001b[38;5;241m0\u001b[39m, \u001b[38;5;241m1\u001b[39m, \u001b[38;5;241m2\u001b[39m}:\n\u001b[0;32m    318\u001b[0m     \u001b[38;5;28;01mraise\u001b[39;00m \u001b[38;5;167;01mValueError\u001b[39;00m(\n\u001b[0;32m    319\u001b[0m         \u001b[38;5;124mf\u001b[39m\u001b[38;5;124m\"\u001b[39m\u001b[38;5;124mIPython won\u001b[39m\u001b[38;5;124m'\u001b[39m\u001b[38;5;124mt let you open fd=\u001b[39m\u001b[38;5;132;01m{\u001b[39;00mfile\u001b[38;5;132;01m}\u001b[39;00m\u001b[38;5;124m by default \u001b[39m\u001b[38;5;124m\"\u001b[39m\n\u001b[0;32m    320\u001b[0m         \u001b[38;5;124m\"\u001b[39m\u001b[38;5;124mas it is likely to crash IPython. If you know what you are doing, \u001b[39m\u001b[38;5;124m\"\u001b[39m\n\u001b[0;32m    321\u001b[0m         \u001b[38;5;124m\"\u001b[39m\u001b[38;5;124myou can use builtins\u001b[39m\u001b[38;5;124m'\u001b[39m\u001b[38;5;124m open.\u001b[39m\u001b[38;5;124m\"\u001b[39m\n\u001b[0;32m    322\u001b[0m     )\n\u001b[1;32m--> 324\u001b[0m \u001b[38;5;28;01mreturn\u001b[39;00m io_open(file, \u001b[38;5;241m*\u001b[39margs, \u001b[38;5;241m*\u001b[39m\u001b[38;5;241m*\u001b[39mkwargs)\n",
      "\u001b[1;31mFileNotFoundError\u001b[0m: [Errno 2] No such file or directory: 'hii.txt'"
     ]
    }
   ],
   "source": [
    "# Reading a file\n",
    "with open('hii.txt', 'r') as file:\n",
    "    content = file.read()\n",
    "    print(content)\n"
   ]
  },
  {
   "cell_type": "code",
   "execution_count": 97,
   "id": "69a30cce-fac0-4241-853f-db7096480fe3",
   "metadata": {},
   "outputs": [
    {
     "ename": "FileNotFoundError",
     "evalue": "[Errno 2] No such file or directory: 'test.txt'",
     "output_type": "error",
     "traceback": [
      "\u001b[1;31m---------------------------------------------------------------------------\u001b[0m",
      "\u001b[1;31mFileNotFoundError\u001b[0m                         Traceback (most recent call last)",
      "Cell \u001b[1;32mIn[97], line 2\u001b[0m\n\u001b[0;32m      1\u001b[0m \u001b[38;5;66;03m# Opening a file and reading its content\u001b[39;00m\n\u001b[1;32m----> 2\u001b[0m \u001b[38;5;28;01mwith\u001b[39;00m \u001b[38;5;28mopen\u001b[39m(\u001b[38;5;124m'\u001b[39m\u001b[38;5;124mtest.txt\u001b[39m\u001b[38;5;124m'\u001b[39m) \u001b[38;5;28;01mas\u001b[39;00m file:\n\u001b[0;32m      3\u001b[0m     \u001b[38;5;28mprint\u001b[39m(file\u001b[38;5;241m.\u001b[39mread())\n\u001b[0;32m      4\u001b[0m \u001b[38;5;250m    \u001b[39m\u001b[38;5;124;03m'''\u001b[39;00m\n\u001b[0;32m      5\u001b[0m \u001b[38;5;124;03m    hii\u001b[39;00m\n\u001b[0;32m      6\u001b[0m \u001b[38;5;124;03mwelcome to coding\u001b[39;00m\n\u001b[0;32m      7\u001b[0m \u001b[38;5;124;03m    '''\u001b[39;00m\n",
      "File \u001b[1;32m~\\anaconda3\\anaconda\\Lib\\site-packages\\IPython\\core\\interactiveshell.py:324\u001b[0m, in \u001b[0;36m_modified_open\u001b[1;34m(file, *args, **kwargs)\u001b[0m\n\u001b[0;32m    317\u001b[0m \u001b[38;5;28;01mif\u001b[39;00m file \u001b[38;5;129;01min\u001b[39;00m {\u001b[38;5;241m0\u001b[39m, \u001b[38;5;241m1\u001b[39m, \u001b[38;5;241m2\u001b[39m}:\n\u001b[0;32m    318\u001b[0m     \u001b[38;5;28;01mraise\u001b[39;00m \u001b[38;5;167;01mValueError\u001b[39;00m(\n\u001b[0;32m    319\u001b[0m         \u001b[38;5;124mf\u001b[39m\u001b[38;5;124m\"\u001b[39m\u001b[38;5;124mIPython won\u001b[39m\u001b[38;5;124m'\u001b[39m\u001b[38;5;124mt let you open fd=\u001b[39m\u001b[38;5;132;01m{\u001b[39;00mfile\u001b[38;5;132;01m}\u001b[39;00m\u001b[38;5;124m by default \u001b[39m\u001b[38;5;124m\"\u001b[39m\n\u001b[0;32m    320\u001b[0m         \u001b[38;5;124m\"\u001b[39m\u001b[38;5;124mas it is likely to crash IPython. If you know what you are doing, \u001b[39m\u001b[38;5;124m\"\u001b[39m\n\u001b[0;32m    321\u001b[0m         \u001b[38;5;124m\"\u001b[39m\u001b[38;5;124myou can use builtins\u001b[39m\u001b[38;5;124m'\u001b[39m\u001b[38;5;124m open.\u001b[39m\u001b[38;5;124m\"\u001b[39m\n\u001b[0;32m    322\u001b[0m     )\n\u001b[1;32m--> 324\u001b[0m \u001b[38;5;28;01mreturn\u001b[39;00m io_open(file, \u001b[38;5;241m*\u001b[39margs, \u001b[38;5;241m*\u001b[39m\u001b[38;5;241m*\u001b[39mkwargs)\n",
      "\u001b[1;31mFileNotFoundError\u001b[0m: [Errno 2] No such file or directory: 'test.txt'"
     ]
    }
   ],
   "source": [
    "# Opening a file and reading its content\n",
    "with open('test.txt') as file:\n",
    "    print(file.read())\n",
    "    '''\n",
    "    hii\n",
    "welcome to coding\n",
    "    '''\n",
    "print(file.closed)\n",
    "# - True"
   ]
  },
  {
   "cell_type": "code",
   "execution_count": null,
   "id": "4c0d7e61-9412-4b42-abfa-2bc5d28215aa",
   "metadata": {},
   "outputs": [],
   "source": []
  }
 ],
 "metadata": {
  "kernelspec": {
   "display_name": "Python 3 (ipykernel)",
   "language": "python",
   "name": "python3"
  },
  "language_info": {
   "codemirror_mode": {
    "name": "ipython",
    "version": 3
   },
   "file_extension": ".py",
   "mimetype": "text/x-python",
   "name": "python",
   "nbconvert_exporter": "python",
   "pygments_lexer": "ipython3",
   "version": "3.12.4"
  },
  "widgets": {
   "application/vnd.jupyter.widget-state+json": {
    "state": {},
    "version_major": 2,
    "version_minor": 0
   }
  }
 },
 "nbformat": 4,
 "nbformat_minor": 5
}
